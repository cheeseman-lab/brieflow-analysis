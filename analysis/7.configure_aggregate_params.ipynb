{
 "cells": [
  {
   "cell_type": "markdown",
   "metadata": {},
   "source": [
    "# Configure Aggregate Module Params\n",
    "\n",
    "This notebook should be used as a test for ensuring correct aggregate parameters before aggregate processing.\n",
    "Cells marked with <font color='red'>SET PARAMETERS</font> contain crucial variables that need to be set according to your specific experimental setup and data organization.\n",
    "Please review and modify these variables as needed before proceeding with the analysis."
   ]
  },
  {
   "cell_type": "markdown",
   "metadata": {},
   "source": [
    "## <font color='red'>SET PARAMETERS</font>\n",
    "\n",
    "### Fixed parameters for aggregate module\n",
    "\n",
    "- `CONFIG_FILE_PATH`: Path to a Brieflow config file used during processing. Absolute or relative to where workflows are run from."
   ]
  },
  {
   "cell_type": "code",
   "execution_count": 1,
   "metadata": {},
   "outputs": [],
   "source": [
    "CONFIG_FILE_PATH = \"config/config.yml\""
   ]
  },
  {
   "cell_type": "code",
   "execution_count": 2,
   "metadata": {},
   "outputs": [],
   "source": [
    "from pathlib import Path\n",
    "\n",
    "import yaml\n",
    "import pandas as pd\n",
    "import matplotlib.pyplot as plt\n",
    "\n",
    "from lib.shared.file_utils import get_filename\n",
    "from lib.aggregate.load_format_data import clean_cell_data, load_parquet_subset\n",
    "from lib.aggregate.feature_processing import feature_transform, grouped_standardization\n",
    "from lib.aggregate.collapse_data import collapse_to_sgrna, collapse_to_gene\n",
    "from lib.aggregate.eval_aggregate import suggest_parameters\n",
    "from lib.aggregate.cell_classification import (\n",
    "    plot_mitotic_distribution_hist,\n",
    "    plot_mitotic_distribution_scatter,\n",
    "    split_mitotic_simple,\n",
    ")\n",
    "from lib.aggregate.montage_utils import create_cell_montage, add_filenames\n",
    "from lib.shared.configuration_utils import CONFIG_FILE_HEADER"
   ]
  },
  {
   "cell_type": "markdown",
   "metadata": {},
   "source": [
    "## <font color='red'>SET PARAMETERS</font>\n",
    "\n",
    "### Testing on subset of data\n",
    "\n",
    "- `TEST_PLATE`: Plate used for testing configuration \n",
    "- `TEST_WELL`: Well identifier used for testing configuration \n",
    "- `POPULATION_FEATURE`: The column name that identifies your perturbation groups (e.g., 'gene_symbol_0' for CRISPR screens, 'treatment' for drug screens)\n",
    "- `FILTER_SINGLE_GENE`: Whether or not to ONLY keep cells with mapped_single_gene=True."
   ]
  },
  {
   "cell_type": "code",
   "execution_count": 3,
   "metadata": {},
   "outputs": [],
   "source": [
    "TEST_PLATE = 1\n",
    "TEST_WELL = \"A2\"\n",
    "\n",
    "POPULATION_FEATURE = \"gene_symbol_0\"\n",
    "FILTER_SINGLE_GENE = False"
   ]
  },
  {
   "cell_type": "code",
   "execution_count": 4,
   "metadata": {},
   "outputs": [
    {
     "name": "stdout",
     "output_type": "stream",
     "text": [
      "Reading first 50,000 rows from analysis_root/merge/parquets/P-1_W-A2__merge_final.parquet\n",
      "Unique populations: 4435\n",
      "Found 19265 cells with assigned perturbations\n",
      "WARNING: 2036 cells have multiple gene assignments\n",
      "Loaded 50000 cells with 1684 features\n"
     ]
    }
   ],
   "source": [
    "# load config file and determine root path\n",
    "with open(CONFIG_FILE_PATH, \"r\") as config_file:\n",
    "    config = yaml.safe_load(config_file)\n",
    "ROOT_FP = Path(config[\"all\"][\"root_fp\"])\n",
    "\n",
    "# Load subset of data\n",
    "# Takes ~1 minute\n",
    "merge_final_fp = (\n",
    "    ROOT_FP\n",
    "    / \"merge\"\n",
    "    / \"parquets\"\n",
    "    / get_filename({\"plate\": TEST_PLATE, \"well\": TEST_WELL}, \"merge_final\", \"parquet\")\n",
    ")\n",
    "merge_final = load_parquet_subset(merge_final_fp)\n",
    "print(f\"Unique populations: {merge_final[POPULATION_FEATURE].nunique()}\")\n",
    "\n",
    "# Remove unassigned cells\n",
    "clean_df = clean_cell_data(\n",
    "    merge_final, POPULATION_FEATURE, filter_single_gene=FILTER_SINGLE_GENE\n",
    ")\n",
    "print(f\"Loaded {len(merge_final)} cells with {len(merge_final.columns)} features\")"
   ]
  },
  {
   "cell_type": "markdown",
   "metadata": {},
   "source": [
    "## Add aggregate parameters to config file"
   ]
  },
  {
   "cell_type": "code",
   "execution_count": null,
   "metadata": {},
   "outputs": [],
   "source": [
    "# # Add aggregate section\n",
    "# config[\"aggregate\"] = {\n",
    "#     \"transformations_fp\": TRANFORMATIONS_FP,\n",
    "#     \"population_feature\": POPULATION_FEATURE,\n",
    "#     \"filter_single_gene\": FILTER_SINGLE_GENE,\n",
    "#     \"feature_start\": FEATURE_START,\n",
    "#     \"control_prefix\": CONTROL_PREFIX,\n",
    "#     \"group_columns\": GROUP_COLUMNS,\n",
    "#     \"index_columns\": INDEX_COLUMNS,\n",
    "#     \"cat_columns\": CAT_COLUMNS,\n",
    "#     \"threshold_conditions\": THRESHOLD_CONDITIONS,\n",
    "# }\n",
    "\n",
    "# # Write the updated configuration\n",
    "# with open(CONFIG_FILE_PATH, \"w\") as config_file:\n",
    "#     # Write the introductory comments\n",
    "#     config_file.write(CONFIG_FILE_HEADER)\n",
    "\n",
    "#     # Dump the updated YAML structure, keeping markdown comments for sections\n",
    "#     yaml.dump(config, config_file, default_flow_style=False)"
   ]
  }
 ],
 "metadata": {
  "kernelspec": {
   "display_name": "brieflow_main_env",
   "language": "python",
   "name": "python3"
  },
  "language_info": {
   "codemirror_mode": {
    "name": "ipython",
    "version": 3
   },
   "file_extension": ".py",
   "mimetype": "text/x-python",
   "name": "python",
   "nbconvert_exporter": "python",
   "pygments_lexer": "ipython3",
   "version": "3.11.11"
  }
 },
 "nbformat": 4,
 "nbformat_minor": 2
}
